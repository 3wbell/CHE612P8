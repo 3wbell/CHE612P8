{
 "cells": [
  {
   "cell_type": "code",
   "execution_count": 1,
   "metadata": {},
   "outputs": [
    {
     "data": {
      "text/html": [
       "<script>\n",
       "  function code_toggle() {\n",
       "    if (code_shown){\n",
       "      $('div.input').hide('500');\n",
       "      $('#toggleButton').val('Show Code')\n",
       "    } else {\n",
       "      $('div.input').show('500');\n",
       "      $('#toggleButton').val('Hide Code')\n",
       "    }\n",
       "    code_shown = !code_shown\n",
       "  }\n",
       "\n",
       "  $( document ).ready(function(){\n",
       "    code_shown=false;\n",
       "    $('div.input').hide()\n",
       "  });\n",
       "</script>\n",
       "<form action=\"javascript:code_toggle()\"><input type=\"submit\" value=\"Click here to toggle on/off the raw code.\"></form>"
      ],
      "text/plain": [
       "<IPython.core.display.HTML object>"
      ]
     },
     "execution_count": 1,
     "metadata": {},
     "output_type": "execute_result"
    }
   ],
   "source": [
    "import numpy as np\n",
    "from math import exp\n",
    "import matplotlib.pyplot as plt\n",
    "import ipywidgets as widgets\n",
    "from ipywidgets import interact, interactive\n",
    "from scipy.optimize import fsolve\n",
    "from prettytable import PrettyTable\n",
    "from IPython.display import HTML\n",
    "\n",
    "HTML('''<script>\n",
    "  function code_toggle() {\n",
    "    if (code_shown){\n",
    "      $('div.input').hide('500');\n",
    "      $('#toggleButton').val('Show Code')\n",
    "    } else {\n",
    "      $('div.input').show('500');\n",
    "      $('#toggleButton').val('Hide Code')\n",
    "    }\n",
    "    code_shown = !code_shown\n",
    "  }\n",
    "\n",
    "  $( document ).ready(function(){\n",
    "    code_shown=false;\n",
    "    $('div.input').hide()\n",
    "  });\n",
    "</script>\n",
    "<form action=\"javascript:code_toggle()\"><input type=\"submit\" value=\"Click here to toggle on/off the raw code.\"></form>''')"
   ]
  },
  {
   "cell_type": "markdown",
   "metadata": {},
   "source": [
    "Professor Boxin Zhao - Universiy of Waterloo\n",
    "\n",
    "Exercise problem 8        \n",
    "\n",
    "For two identically charged spherical colloidal particles (R = $10^{-6}$m) with a surface potential of 50mV dispersed in a 0.01M sodium chloride solution. \n",
    "\n",
    "The effective Hamaker constant H121 = $6 x 10^{-20}$J \n",
    "\n",
    "(a) Write the DLVO expression of the potential energy of interactions between the particles\n",
    "\n",
    "(b) Plot the total DLVO potential (VT) and its attraction (VA) and repulsion (VR) componentsversus separation distance (D)\n",
    "\n",
    "(c) From the DLVO plot, determine the separation D0 where the interaction potential VT=0"
   ]
  },
  {
   "cell_type": "code",
   "execution_count": 2,
   "metadata": {},
   "outputs": [
    {
     "name": "stdout",
     "output_type": "stream",
     "text": [
      "Enter temperature in Kelvin: 298\n",
      "Enter particle radius in nanometers: 1000\n",
      "Enter surface potential in millivolts: 50\n",
      "Enter Hammaker contsant in Joules x 10^-20: 6\n",
      "Enter valence number for salt ions: 1\n"
     ]
    }
   ],
   "source": [
    "T = input('Enter temperature in Kelvin: ') #[K]\n",
    "T = float(T)\n",
    "formatted_T = T\n",
    "\n",
    "R = input('Enter particle radius in nanometers: ') #[m]\n",
    "R = float(R)*10**-9\n",
    "formatted_R = format(R, '.3E')\n",
    "phi_o = input('Enter surface potential in millivolts: ') #[V]\n",
    "phi_o = float(phi_o)/1000\n",
    "formatted_phi_o = format(phi_o, '.3E')\n",
    "H = input('Enter Hammaker contsant in Joules x 10^-20: ') #[J]\n",
    "H = float(H)*10**-20\n",
    "formatted_H = format(H, '.3E')\n",
    "z = input('Enter valence number for salt ions: ') #valence number, symmetric electrolyte\n",
    "z = int(z)\n",
    "\n",
    "eta_r = 78.5 #[C^2/Jm]\n",
    "eta_o = 8.854*10**-12 #[C^2/Jm]\n",
    "formatted_eta_o = format(eta_o, '.3E')\n",
    "\n",
    "k = 1.38*10**-23 #[J/K]\n",
    "e = 1.602*10**-19 #[C]\n",
    "pi = 3.14159\n",
    "\n",
    "\n",
    "gamma_o = (exp((z * e * phi_o) / (2 * k * T)) - 1) / (exp((z * e * phi_o) / (2 * k * T)) + 1)"
   ]
  },
  {
   "cell_type": "code",
   "execution_count": 9,
   "metadata": {},
   "outputs": [
    {
     "data": {
      "image/png": "[encoded data removed]",
      "text/plain": [
       "<Figure size 504x504 with 1 Axes>"
      ]
     },
     "metadata": {
      "needs_background": "light"
     },
     "output_type": "display_data"
    },
    {
     "name": "stdout",
     "output_type": "stream",
     "text": [
      "Roots: 0.661 8.386\n",
      "+--------------+-----------+---------------+\n",
      "|     Variable |   Value   | Units         |\n",
      "+--------------+-----------+---------------+\n",
      "|            T |   298.0   | K             |\n",
      "|            R | 1.000E-06 | m             |\n",
      "|        phi_o | 5.000E-02 | V             |\n",
      "|            H | 6.000E-20 | J             |\n",
      "|        eta_r |    78.5   | -             |\n",
      "|        eta_o | 8.854E-12 | C^2/Jm        |\n",
      "|            z |     1     | #             |\n",
      "|         c*_o | 6.022E+24 | molecules/m^3 |\n",
      "| decay length | 3.041E-09 | m             |\n",
      "+--------------+-----------+---------------+\n"
     ]
    }
   ],
   "source": [
    "H=float(H)\n",
    "\n",
    "def forces(D, salt_conc = .01):\n",
    "    c_star_o = salt_conc * 6.022*10**23 * 1000 #[number/m^3]\n",
    "    kappa = ((eta_r * eta_o * k * T)/(((1*e)**2 + (-1*e)**2)*c_star_o))**-.5\n",
    "    attract = - (H * R) / (12 * D)\n",
    "    repel = (64 * pi * R * k * T * c_star_o * gamma_o ** 2 * exp(-kappa * D)) / (kappa ** 2)\n",
    "    total = repel + attract\n",
    "    return attract, repel, total, c_star_o\n",
    "\n",
    "def total_force(D, salt_conc):\n",
    "    c_star_o = salt_conc * 6.022*10**23 * 1000 #[number/m^3]\n",
    "    kappa = ((eta_r * eta_o * k * T)/(((1*e)**2 + (-1*e)**2)*c_star_o))**-.5\n",
    "    attract = - (H * R) / (12 * D)\n",
    "    repel = (64 * pi * R * k * T * c_star_o * gamma_o ** 2 * exp(-kappa * D)) / (kappa ** 2)\n",
    "    total = repel + attract\n",
    "    return total\n",
    "\n",
    "def DVLO_graph(salt_conc = .01):\n",
    "\n",
    "    D = np.linspace(.4*10**-9, 60*10**-9, 500) #[m]\n",
    "    x_axis = np.zeros(len(D))\n",
    "    V_T = []\n",
    "    V_A = []\n",
    "    V_R = []\n",
    "    \n",
    "    for item in D:\n",
    "        attract, repel, total, c_star_o = forces(item, salt_conc)\n",
    "        \n",
    "        V_A.append(attract)\n",
    "        V_R.append(repel)\n",
    "        V_T.append(repel + attract)\n",
    "        \n",
    "    first_root = fsolve(total_force, .4*10**-9, salt_conc)\n",
    "    second_root = fsolve(total_force, first_root + 2*10**-9, salt_conc)   \n",
    "    \n",
    "    figure = plt.figure(figsize = (7,7))\n",
    "    plt.plot(D*10**9,V_T, label = \"Total Force\", figure=figure)\n",
    "    plt.plot(D*10**9,V_A, label = \"Attractive Force\", figure=figure)\n",
    "    plt.plot(D*10**9,V_R, label = \"Repulsive Force\", figure=figure)\n",
    "    plt.plot([-5, 60], [0, 0], figure=figure, color = 'black', linewidth = 1)\n",
    "    if .4 <= first_root*10**9 <= 60:\n",
    "        plt.plot(first_root*10**9, 0, marker = 'o', color = 'red', lineStyle = 'None', label = \"Roots\")\n",
    "    if .4 <= second_root*10**9 <= 60:\n",
    "        plt.plot(second_root*10**9, 0, marker = 'o', color = 'red', lineStyle = 'None')\n",
    "    plt.xlim([-5, 60])\n",
    "    plt.legend()\n",
    "    plt.title('CHE612 - DLVO Exercise')\n",
    "    plt.xlabel('Distance [nm]')\n",
    "    plt.ylabel('Potential Energy [J]')\n",
    "    plt.show()\n",
    "    \n",
    "    formatted_c_star_o = format(c_star_o, '.3E')\n",
    "    \n",
    "    print('Roots:', round(float(first_root*10**9),3), round(float(second_root*10**9),3))\n",
    "    \n",
    "    table = PrettyTable()\n",
    "    table.field_names = ['Variable', 'Value', 'Units']\n",
    "    table.align['Variable'] = 'r'\n",
    "    table.align['Units'] = 'l'\n",
    "    table.add_row(['T', formatted_T, 'K'])\n",
    "    table.add_row(['R', formatted_R, 'm'])\n",
    "    table.add_row(['phi_o', formatted_phi_o, 'V'])\n",
    "    table.add_row(['H', formatted_H, 'J'])\n",
    "    table.add_row(['eta_r', eta_r, '-'])\n",
    "    table.add_row(['eta_o', formatted_eta_o, 'C^2/Jm'])\n",
    "    table.add_row(['z', z, '#'])\n",
    "    table.add_row(['c*_o', formatted_c_star_o, 'molecules/m^3'])\n",
    "    table.add_row(['decay length', format(((eta_r * eta_o * k * T)/(((1*e)**2 + (-1*e)**2)*c_star_o))**.5, '.3E'), 'm'])\n",
    "    #decay length is 1/kappa\n",
    "    print(table)    \n",
    "    \n",
    "DVLO_graph()\n",
    "\n"
   ]
  },
  {
   "cell_type": "markdown",
   "metadata": {},
   "source": [
    "The two roots are the two interatomic distances (in nm) where the interaction potential is zero.\n",
    "\n",
    "To explore the effect of salt concentration, check out the interactive plot below."
   ]
  },
  {
   "cell_type": "code",
   "execution_count": 10,
   "metadata": {},
   "outputs": [
    {
     "data": {
      "application/vnd.jupyter.widget-view+json": {
       "model_id": "3494415bf7f24357a5ed7e835cfc301e",
       "version_major": 2,
       "version_minor": 0
      },
      "text/plain": [
       "interactive(children=(FloatSlider(value=0.01, description='salt_conc', max=0.2, min=0.0001, readout_format='.4…"
      ]
     },
     "metadata": {},
     "output_type": "display_data"
    }
   ],
   "source": [
    "interactive_DVLO_graph = interactive(DVLO_graph, salt_conc=widgets.FloatSlider(min=.0001, max=.2, value=.01, step=.0001, readout_format = '.4f'))\n",
    "interactive_DVLO_graph"
   ]
  },
  {
   "cell_type": "code",
   "execution_count": null,
   "metadata": {},
   "outputs": [],
   "source": []
  },
  {
   "cell_type": "code",
   "execution_count": null,
   "metadata": {},
   "outputs": [],
   "source": []
  }
 ],
 "metadata": {
  "kernelspec": {
   "display_name": "Python 3",
   "language": "python",
   "name": "python3"
  },
  "language_info": {
   "codemirror_mode": {
    "name": "ipython",
    "version": 3
   },
   "file_extension": ".py",
   "mimetype": "text/x-python",
   "name": "python",
   "nbconvert_exporter": "python",
   "pygments_lexer": "ipython3",
   "version": "3.7.4"
  }
 },
 "nbformat": 4,
 "nbformat_minor": 2
}
